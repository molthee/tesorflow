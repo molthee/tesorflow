{
 "cells": [
  {
   "cell_type": "markdown",
   "metadata": {
    "scrolled": true
   },
   "source": [
    "Listings aus iX Artikel\n",
    "============"
   ]
  },
  {
   "cell_type": "code",
   "execution_count": null,
   "metadata": {},
   "outputs": [],
   "source": [
    "!pip install tensorflow"
   ]
  },
  {
   "cell_type": "code",
   "execution_count": null,
   "metadata": {},
   "outputs": [],
   "source": [
    "import tensorflow as tf\n",
    "\n",
    "#graphen erzeugen\n",
    "\n",
    "node_const_1 = tf.constant(3.0, tf.float32, name = 'const_1')\n",
    "node_const_2 = tf.constant(4.0, tf.float32, name = 'const_2')\n",
    "\n",
    "node_add = tf.add(node_const_1, node_const_2)\n",
    "\n",
    "a = tf.placeholder(tf.float32, name = 'a')\n",
    "node_mul = node_add * a\n",
    "\n",
    "b = tf.Variable(1.0, tf.float32, name = 'b')\n",
    "node_sub = node_mul - b\n",
    "\n",
    "\n",
    "#ausführen\n",
    "\n",
    "with tf.Session() as session:\n",
    "    writer = tf.summary.FileWriter('./first_step', session.graph)\n",
    "    init = tf.global_variables_initializer()\n",
    "    session.run(init)\n",
    "    print(session.run(node_sub, {a:2.0}))\n",
    "    \n",
    "writer.close()"
   ]
  },
  {
   "cell_type": "markdown",
   "metadata": {},
   "source": [
    "idx 2 numpy script\n",
    "==========\n",
    "\n",
    "Einlesen:\n",
    "<https://gist.github.com/tylerneylon/ce60e8a06e7506ac45788443f7269e40>\n",
    "\n",
    "Ausgeben:\n",
    "<https://python-programmieren.com/deep-learning-mnist-database/>\n"
   ]
  },
  {
   "cell_type": "code",
   "execution_count": null,
   "metadata": {
    "scrolled": false
   },
   "outputs": [],
   "source": [
    "!pip install numpy\n",
    "!pip install matplotlib"
   ]
  },
  {
   "cell_type": "code",
   "execution_count": 3,
   "metadata": {},
   "outputs": [
    {
     "data": {
      "text/plain": [
       "Text(0.5,1,'Number: 1')"
      ]
     },
     "execution_count": 3,
     "metadata": {},
     "output_type": "execute_result"
    },
    {
     "data": {
      "image/png": "[encoded data removed]",
      "text/plain": [
       "<Figure size 432x288 with 1 Axes>"
      ]
     },
     "metadata": {},
     "output_type": "display_data"
    }
   ],
   "source": [
    "import struct\n",
    "import numpy as np\n",
    "from matplotlib import pyplot as plt\n",
    "import gzip\n",
    "\n",
    "bilder_idx = \"train-images-idx3-ubyte.gz\"\n",
    "bezeichnungen_idx = \"train-labels-idx1-ubyte.gz\"\n",
    "bild_nr = 3\n",
    "\n",
    "with gzip.open(bilder_idx) as f:\n",
    "    zero, data_type, dims = struct.unpack('>HBB', f.read(4))\n",
    "    shape = tuple(struct.unpack('>I', f.read(4))[0] for d in range(dims))\n",
    "    bilder = np.frombuffer(f.read(), dtype=np.uint8).reshape(shape)\n",
    "\n",
    "with gzip.open(bezeichnungen_idx) as f:\n",
    "    zero, data_type, dims = struct.unpack('>HBB', f.read(4))\n",
    "    shape = tuple(struct.unpack('>I', f.read(4))[0] for d in range(dims))\n",
    "    bezeichnungen = np.frombuffer(f.read(), dtype=np.uint8).reshape(shape)\n",
    "    \n",
    "fig = plt.figure()\n",
    "ax = fig.add_subplot(111)\n",
    "ax.imshow(bilder[bild_nr], cmap='gray')\n",
    "ax.set_title(\"\".join([\"Number: \", str(bezeichnungen[bild_nr])]))"
   ]
  },
  {
   "cell_type": "code",
   "execution_count": null,
   "metadata": {},
   "outputs": [],
   "source": []
  }
 ],
 "metadata": {
  "kernelspec": {
   "display_name": "Python 3",
   "language": "python",
   "name": "python3"
  },
  "language_info": {
   "codemirror_mode": {
    "name": "ipython",
    "version": 3
   },
   "file_extension": ".py",
   "mimetype": "text/x-python",
   "name": "python",
   "nbconvert_exporter": "python",
   "pygments_lexer": "ipython3",
   "version": "3.6.5"
  }
 },
 "nbformat": 4,
 "nbformat_minor": 2
}
