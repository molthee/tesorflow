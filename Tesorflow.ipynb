{
 "cells": [
  {
   "cell_type": "markdown",
   "metadata": {},
   "source": [
    "idx 2 numpy script\n",
    "==========\n",
    "\n",
    "Einlesen:\n",
    "<https://gist.github.com/tylerneylon/ce60e8a06e7506ac45788443f7269e40>\n",
    "\n",
    "Ausgeben:\n",
    "<https://python-programmieren.com/deep-learning-mnist-database/>\n"
   ]
  },
  {
   "cell_type": "code",
   "execution_count": null,
   "metadata": {
    "scrolled": true
   },
   "outputs": [],
   "source": [
    "!pip install numpy\n",
    "!pip install matplotlib\n",
    "!pip install tensorflow"
   ]
  },
  {
   "cell_type": "code",
   "execution_count": 14,
   "metadata": {},
   "outputs": [
    {
     "data": {
      "text/plain": [
       "Text(0.5,1,'Number: 9')"
      ]
     },
     "execution_count": 14,
     "metadata": {},
     "output_type": "execute_result"
    },
    {
     "data": {
      "image/png": "[encoded data removed]",
      "text/plain": [
       "<Figure size 432x288 with 1 Axes>"
      ]
     },
     "metadata": {},
     "output_type": "display_data"
    }
   ],
   "source": [
    "import gzip\n",
    "import struct\n",
    "import numpy as np\n",
    "import tensorflow as tf\n",
    "from matplotlib import pyplot as plt\n",
    "\n",
    "bilder_idx = \"train-images-idx3-ubyte.gz\"\n",
    "bezeichnungen_idx = \"train-labels-idx1-ubyte.gz\"\n",
    "bild_nr = 4\n",
    "\n",
    "with gzip.open(bilder_idx) as f:\n",
    "    zero, data_type, dims = struct.unpack('>HBB', f.read(4))\n",
    "    shape = tuple(struct.unpack('>I', f.read(4))[0] for d in range(dims))\n",
    "    bilder = np.frombuffer(f.read(), dtype=np.uint8).reshape(shape)\n",
    "\n",
    "with gzip.open(bezeichnungen_idx) as f:\n",
    "    zero, data_type, dims = struct.unpack('>HBB', f.read(4))\n",
    "    shape = tuple(struct.unpack('>I', f.read(4))[0] for d in range(dims))\n",
    "    bezeichnungen_int = np.frombuffer(f.read(), dtype=np.uint8).reshape(shape)\n",
    "    # Bezeichnungen in one-hot Format umwandeln\n",
    "    bezeichnungen = tf.one_hot(bezeichnungen_int, 10)\n",
    "    \n",
    "fig = plt.figure()\n",
    "ax = fig.add_subplot(111)\n",
    "ax.imshow(bilder[bild_nr], cmap='gray')\n",
    "ax.set_title(\"\".join([\"Number: \", str(bezeichnungen_int[bild_nr])]))"
   ]
  },
  {
   "cell_type": "markdown",
   "metadata": {},
   "source": [
    "Training\n",
    "=======\n",
    "Listing aus iX Artikel"
   ]
  },
  {
   "cell_type": "code",
   "execution_count": null,
   "metadata": {},
   "outputs": [],
   "source": [
    "with tf.name_scope('model'):\n",
    "    x = tf.placeholder(tf.float32, [None, 784])\n",
    "    W = tf.Variable(tf.zeros([784, 10]))\n",
    "    b = tf.Variable(tf.zeros([10]))\n",
    "    y = tf.nn.softmax(tf.matmul(x, W) + b)\n",
    "    \n",
    "with tf.name_scope('train'):\n",
    "    y_ = tf.placeholder(tf.float32, [None, 10])\n",
    "    cross_entropy = tf.reduce_mean(-tf.reduce_sum(y_ * tf.log(y), reduction_indices=[1]))\n",
    "    train_step = tf.train.GradientDescentOptimizer(0.5).minimize(cross_entropy)\n",
    "    \n",
    "with tf.Session() as session:\n",
    "    init = tf.global_variables_initializer()\n",
    "    session.run(init)\n",
    "    for i in range(1000):\n",
    "        batch_xs, batch_ys = mnist.train.next_batch(100)\n",
    "        session.run(train_step, feed_dict={x: batch_xs, y_: batch_ys})\n",
    "    #Test\n",
    "    correct_prediction = tf.equal(tf.argmax(y,1), tf.argmax(y_,1))\n",
    "    accuracy = tf.reduce_mean(tf.cast(correct_prediction, tf.float32))\n",
    "\n",
    "print(session.run(accuracy, feed_dict={x: mnist.test.images, y_: mnist.test.labels}))"
   ]
  }
 ],
 "metadata": {
  "kernelspec": {
   "display_name": "Python 3",
   "language": "python",
   "name": "python3"
  },
  "language_info": {
   "codemirror_mode": {
    "name": "ipython",
    "version": 3
   },
   "file_extension": ".py",
   "mimetype": "text/x-python",
   "name": "python",
   "nbconvert_exporter": "python",
   "pygments_lexer": "ipython3",
   "version": "3.6.5"
  }
 },
 "nbformat": 4,
 "nbformat_minor": 2
}
